{
 "cells": [
  {
   "cell_type": "code",
   "execution_count": null,
   "metadata": {},
   "outputs": [],
   "source": [
    "#Smart Contracts #2 - SC set that buys an option at the beggining of every month for 3 months\n",
    "#and Contract #3 - Smart contract executes fx transaction to buy USD with GBP if the option is valuable on maturity date"
   ]
  },
  {
   "cell_type": "code",
   "execution_count": 19,
   "metadata": {},
   "outputs": [],
   "source": [
    "import datetime as dt\n",
    "import numpy as np\n",
    "import random\n",
    "import pandas as pd\n",
    "\n",
    "\n",
    "#setting Transaction class and Transfer class. Transaction involved fx. transfer is a straight book to book tranfer essentially\n",
    "\n",
    "\n",
    "def always():\n",
    "    return True\n",
    "\n",
    "class Transaction:\n",
    "    def __init__(self, buyer, seller, qty,fx,traded,base):\n",
    "        self.__buyer=buyer\n",
    "        self.__seller=seller\n",
    "        self.__qty=qty\n",
    "        self.__fx=fx\n",
    "        self.__traded=traded\n",
    "        self.__base=base\n",
    "        self.__executed=False\n",
    "\n",
    "    def execute(self):\n",
    "        if not self.__executed:\n",
    "            self.__buyer.invest(self.__qty,self.__traded)\n",
    "            self.__buyer.divest(self.__qty*self.__fx,self.__base)\n",
    "            self.__seller.divest(self.__qty,self.__traded)\n",
    "            self.__seller.invest(self.__qty*self.__fx,self.__base)\n",
    "            self.__executed=True\n",
    "            print('Executing: '+'t details')\n",
    "\n",
    "\n",
    "#portoflio is the class containing the the dr and cr instructions for the accounts of the buyer seller and broker\n",
    "                \n",
    "class Portfolio:\n",
    "    def __init__(self,initialBalances={}):\n",
    "        self.__balance=initialBalances.copy()\n",
    "\n",
    "    def invest(self,quantity,currency):\n",
    "        self.initialise(currency)\n",
    "        self.__balance[currency]+=quantity\n",
    "\n",
    "    def divest(self,quantity,currency):\n",
    "        self.initialise(currency)\n",
    "        self.__balance[currency]-=quantity        \n",
    "\n",
    "    def getBalance(self,currency):\n",
    "        self.initialise(currency)\n",
    "        return self.__balance[currency]        \n",
    "\n",
    "    def initialise(self,currency):\n",
    "        if not currency in self.__balance:\n",
    "            self.__balance[currency]=0\n",
    "            \n",
    "            \n",
    "class Transfer(Transaction):\n",
    "    def __init__(self, recipient, sender, qty,currency):\n",
    "        self.__recipient=recipient\n",
    "        self.__sender=sender\n",
    "        self.__qty=qty\n",
    "        self.__currency=currency\n",
    "        self.__executed=False\n",
    "\n",
    "    def execute(self):\n",
    "        if not self.__executed:\n",
    "            self.__recipient.invest(self.__qty,self.__currency)\n",
    "            self.__sender.divest(self.__qty,self.__currency)\n",
    "            self.__executed=True\n",
    "     \n",
    "\n",
    "    \n",
    "    \n",
    "class SmartContract:\n",
    "    def __init__(self, transactions, condition):\n",
    "        self.__transactions=transactions\n",
    "        self.__cond=condition       \n",
    "\n",
    "    def conditionalExecute(self):\n",
    "        if self.__cond():\n",
    "            for t in self.__transactions:\n",
    "                t.execute()\n",
    "\n",
    "                \n",
    "\n",
    "\n",
    "            \n",
    "\n",
    "\n",
    "\n",
    "\n"
   ]
  },
  {
   "cell_type": "code",
   "execution_count": 20,
   "metadata": {},
   "outputs": [],
   "source": [
    "#current fx rates that the transaction will use\n",
    "\n",
    "class FX:\n",
    "    USD=1.43\n",
    "    GBP=0.66\n"
   ]
  },
  {
   "cell_type": "code",
   "execution_count": 13,
   "metadata": {},
   "outputs": [],
   "source": [
    "#if an Option is agreed, contract terms are drawn up and a Cost of carry transfer is initiated from buyer to dealer\n",
    "\n",
    "\n",
    "class SmarterOpContract:\n",
    "    def __init__(self, actions, condition):\n",
    "        self.__SmarterOpContract=SmarterOpContract\n",
    "        self.__cond=condition\n",
    "        self.__act=actions\n",
    "\n",
    "    def conditionalExecute(self,):\n",
    "        if self.__cond:\n",
    "            for t in self.__actions:\n",
    "                t.execute()\n",
    "                \n",
    "\n",
    "    def cond():\n",
    "        return dt.date.today()==dt.date(2018,11,13) or dt.date(2018,12,13) or dt.date(2019,12,13)  \n",
    "\n",
    "    def actions():\n",
    "        t=Transfer(ContractEnv.dealer, ContractEnv.buyer, CostOfCarry,'GBP')\n",
    "        t.execute()"
   ]
  },
  {
   "cell_type": "code",
   "execution_count": 124,
   "metadata": {},
   "outputs": [],
   "source": [
    "soc=SmarterOpContract"
   ]
  },
  {
   "cell_type": "code",
   "execution_count": 116,
   "metadata": {},
   "outputs": [],
   "source": [
    "#If an option matures and is attractive to the buyer, SC automatically completes the transaction\n",
    "\n",
    "\n",
    "class Contract(Transaction):\n",
    "    \n",
    "    \n",
    "\n",
    "    def __init__(self, buyer, seller, qty,fx,traded,base, SpotRate, CostOfCarry, maturityDate):\n",
    "        super().__init__(buyer, seller, qty,fx,traded,base,)\n",
    "    \n",
    "\n",
    "        \n",
    "        self.__SpotRate=SpotRate\n",
    "        self.__CostOfCarry = CostOfCarry\n",
    "        self.__maturityDate = maturityDate\n",
    "\n",
    "\n",
    "\n",
    "\n",
    "\n"
   ]
  },
  {
   "cell_type": "code",
   "execution_count": 117,
   "metadata": {},
   "outputs": [],
   "source": [
    "soc=SmarterOpContract"
   ]
  },
  {
   "cell_type": "code",
   "execution_count": 18,
   "metadata": {},
   "outputs": [],
   "source": [
    "\n",
    "#account balances of parties, here is also where I put terms of OPTIONS contract to see if the trx would work  \n",
    "\n",
    "class ContractEnv:\n",
    "        \n",
    "    def __init__(self, buyer, seller, dealer,qty,CostOfCarry,doe):\n",
    "        self.__buyer=buyer\n",
    "        self.__seller=seller\n",
    "        self.__dealer=dealer\n",
    "        self.__qty=qty\n",
    "        self.__CostOfCarry=CostOfCarry\n",
    "        self.__doe=doe\n",
    "        \n",
    "        def ContractTerms():\n",
    "            qty=30000\n",
    "            CostOfCarry=0.008*qty\n",
    "            fx=0.66\n",
    "            doe=dt.date(2018,11,13)-dt.date.today()\n",
    "            \n",
    "buyer=Portfolio({'USD':5000000,'GBP':4000000})\n",
    "seller=Portfolio({'USD':3000000,'GBP':800000})\n",
    "dealer=Portfolio({'USD':100000,'GBP':100000})\n",
    "\n",
    "\n"
   ]
  },
  {
   "cell_type": "code",
   "execution_count": 119,
   "metadata": {},
   "outputs": [],
   "source": [
    "#Example of importing terms of contract into Python for Smart Contract Execution\n",
    "\n",
    "#OptionsContactTerms= open(\"Contactxyz.txt\", mode=\"r\")\n",
    "\n",
    "#print(OptionsContractTerms.read())\n",
    "#ContractTerms.append()\n"
   ]
  },
  {
   "cell_type": "code",
   "execution_count": 1,
   "metadata": {},
   "outputs": [],
   "source": [
    "opsc=OptPurchaseSC(Transaction,condition)"
   ]
  },
  {
   "cell_type": "code",
   "execution_count": null,
   "metadata": {},
   "outputs": [],
   "source": [
    "\n",
    "# the below will determine if the option should be accepted or rejected on maturity. \n",
    "#Execute the 2nd part of the Option transaction if so. This is the fx deal between seller and buyer\n",
    "\n",
    "\n",
    "def OptionValue():\n",
    "    if FXratefluctuation * qty < CostOfCarry + FXRate * qty:\n",
    "        print('Option is worthless.')\n",
    "        return True\n",
    "    else:\n",
    "        print('hello trading world!')\n",
    "        \n",
    "        return False\n"
   ]
  },
  {
   "cell_type": "code",
   "execution_count": 23,
   "metadata": {},
   "outputs": [
    {
     "ename": "SyntaxError",
     "evalue": "invalid syntax (<ipython-input-23-cee0647607d5>, line 14)",
     "output_type": "error",
     "traceback": [
      "\u001b[1;36m  File \u001b[1;32m\"<ipython-input-23-cee0647607d5>\"\u001b[1;36m, line \u001b[1;32m14\u001b[0m\n\u001b[1;33m    return doe == 0 and FXratefluctuation * qty < CostOfCarry + FXRate * qty:\u001b[0m\n\u001b[1;37m                                                                            ^\u001b[0m\n\u001b[1;31mSyntaxError\u001b[0m\u001b[1;31m:\u001b[0m invalid syntax\n"
     ]
    }
   ],
   "source": [
    "#Smart Contract#3\n",
    "\n",
    "class OptPurchaseSC:\n",
    "    def __init__(self, Transaction, condition):\n",
    "        self.__Transaction=Transaction()\n",
    "        self.__condition=condition       \n",
    "\n",
    "    def conditionalExecute(self):\n",
    "        if self.__condition():\n",
    "            for t in self.__Transaction:\n",
    "                t.execute()\n",
    "\n",
    "                \n",
    "#doe = 0 determines maturity day\n",
    "\n",
    "    def condition():\n",
    "        return doe == 0 and FXratefluctuation * qty < CostOfCarry + FXRate * qty:   \n",
    "\n",
    "    def actions():\n",
    "        t=Transaction(ContractEnv.buyer, ContractEnvseller, qty,fx,'USD','GBP')\n",
    "        t.execute()\n",
    "            \n",
    "\n",
    "\n",
    "\n"
   ]
  },
  {
   "cell_type": "code",
   "execution_count": 17,
   "metadata": {},
   "outputs": [
    {
     "name": "stdout",
     "output_type": "stream",
     "text": [
      " -0.38\n",
      " -0.98\n",
      " -0.68\n",
      " -0.87\n",
      " -0.88\n",
      " -0.31\n",
      " -0.54\n",
      " -0.81\n",
      " -0.51\n",
      " -0.48\n",
      " -0.75\n",
      " -0.85\n"
     ]
    }
   ],
   "source": [
    "#Using random to simulate fx rate. real life scenario - scrape from Forex using $ pip install forex-python\n",
    "\n",
    "\n",
    "FXratefluctuation=[]\n",
    "Value=1.01\n",
    "for i in range(12):\n",
    "    Value=random.random()-1.00000001\n",
    "    print(' %.2f' %Value)\n",
    "    FXratefluctuation.append(Value)"
   ]
  },
  {
   "cell_type": "code",
   "execution_count": 16,
   "metadata": {},
   "outputs": [],
   "source": [
    "#opsc.conditionalExecute()"
   ]
  },
  {
   "cell_type": "code",
   "execution_count": null,
   "metadata": {},
   "outputs": [],
   "source": []
  },
  {
   "cell_type": "code",
   "execution_count": null,
   "metadata": {},
   "outputs": [],
   "source": [
    "            "
   ]
  },
  {
   "cell_type": "code",
   "execution_count": null,
   "metadata": {},
   "outputs": [],
   "source": []
  }
 ],
 "metadata": {
  "kernelspec": {
   "display_name": "Python 3",
   "language": "python",
   "name": "python3"
  },
  "language_info": {
   "codemirror_mode": {
    "name": "ipython",
    "version": 3
   },
   "file_extension": ".py",
   "mimetype": "text/x-python",
   "name": "python",
   "nbconvert_exporter": "python",
   "pygments_lexer": "ipython3",
   "version": "3.6.5"
  }
 },
 "nbformat": 4,
 "nbformat_minor": 2
}
